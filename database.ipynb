{
 "cells": [
  {
   "cell_type": "code",
   "execution_count": 1,
   "metadata": {},
   "outputs": [],
   "source": [
    "import numpy as np\n",
    "import matplotlib.pyplot as plt\n",
    "import os"
   ]
  },
  {
   "cell_type": "code",
   "execution_count": 2,
   "metadata": {},
   "outputs": [],
   "source": [
    "A = [[0,0,0,0,0],\n",
    "     [0,1,1,1,0],\n",
    "     [0,1,0,1,0],\n",
    "     [0,1,1,1,0],\n",
    "     [0,1,0,1,0]], \n",
    "\n",
    "B = [[0,1,1,1,0],\n",
    "     [0,1,0,1,0],\n",
    "     [0,1,1,1,0],\n",
    "     [0,1,0,1,0],\n",
    "     [0,1,1,1,0]]\n",
    "\n",
    "C = [[0,0,0,0,0],\n",
    "     [0,1,1,1,0],\n",
    "     [0,1,0,0,0],\n",
    "     [0,1,1,1,0],\n",
    "     [0,0,0,0,0]]\n",
    "\n",
    "D = [[0,1,1,0,0],\n",
    "     [0,1,0,1,0],\n",
    "     [0,1,0,0,1],\n",
    "     [0,1,0,1,0],\n",
    "     [0,1,1,0,0]]\n",
    "\n",
    "E = [[0,1,1,1,0],\n",
    "     [0,1,0,0,0],\n",
    "     [0,1,1,1,0],\n",
    "     [0,1,0,0,0],\n",
    "     [0,1,1,1,0]]\n",
    "\n",
    "F = [[0,1,1,1,0],\n",
    "     [0,1,0,0,0],\n",
    "     [0,1,1,1,0],\n",
    "     [0,1,0,0,0],\n",
    "     [0,1,0,0,0]]\n",
    "\n",
    "G = [[0,1,1,1,0],\n",
    "     [0,1,0,0,0],\n",
    "     [0,1,1,1,0],\n",
    "     [0,1,0,1,0],\n",
    "     [0,1,1,1,0]]\n",
    "\n",
    "H = [[1,0,0,0,1],\n",
    "     [1,0,0,0,1],\n",
    "     [1,1,1,1,1],\n",
    "     [1,0,0,0,1],\n",
    "     [1,0,0,0,1]]\n",
    "\n",
    "I = [[0,0,1,0,0],\n",
    "     [0,0,1,0,0],\n",
    "     [0,0,1,0,0],\n",
    "     [0,0,1,0,0],\n",
    "     [0,0,1,0,0]]\n",
    "\n",
    "J = [[0,0,0,1,0],\n",
    "     [0,0,0,1,0],\n",
    "     [0,0,0,1,0],\n",
    "     [0,1,0,1,0],\n",
    "     [0,1,1,1,0]]\n",
    "\n",
    "K = [[0,1,0,0,1],\n",
    "     [0,1,0,1,0],\n",
    "     [0,1,1,0,0],\n",
    "     [0,1,0,1,0],\n",
    "     [0,1,0,0,1]]\n",
    "\n",
    "L = [[1,0,0,0,0],\n",
    "     [1,0,0,0,0],\n",
    "     [1,0,0,0,0],\n",
    "     [1,0,0,0,0],\n",
    "     [1,1,1,1,1]]\n",
    "\n",
    "M = [[1,0,0,0,1],\n",
    "     [1,1,0,1,1],\n",
    "     [1,0,1,0,1],\n",
    "     [1,0,0,0,1],\n",
    "     [1,0,0,0,1]]\n",
    "\n",
    "N = [[1,0,0,0,1],\n",
    "     [1,1,0,0,1],\n",
    "     [1,0,1,0,1],\n",
    "     [1,0,0,1,1],\n",
    "     [1,0,0,0,1]]\n",
    "\n",
    "O = [[1,1,1,1,1],\n",
    "     [1,0,0,0,1],\n",
    "     [1,0,0,0,1],\n",
    "     [1,0,0,0,1],\n",
    "     [1,1,1,1,1]]\n",
    "\n",
    "P = [[1,1,1,1,1],\n",
    "     [1,0,0,0,1],\n",
    "     [1,1,1,1,1],\n",
    "     [1,0,0,0,0],\n",
    "     [1,0,0,0,0]]\n",
    "\n",
    "Q = [[1,1,1,1,1],\n",
    "     [1,0,0,0,1],\n",
    "     [1,0,1,0,1],\n",
    "     [1,0,0,1,1],\n",
    "     [1,1,1,1,1]]\n",
    "\n",
    "R = [[1,1,1,1,0],\n",
    "     [1,0,0,1,0],\n",
    "     [1,1,1,1,0],\n",
    "     [1,0,0,1,0],\n",
    "     [1,0,0,0,1]]\n",
    "\n",
    "\n",
    "S = [[0,1,1,1,0],\n",
    "     [0,1,0,0,0],\n",
    "     [0,1,1,1,0],\n",
    "     [0,0,0,1,0],\n",
    "     [0,1,1,1,0]]\n",
    "\n",
    "T = [[0,0,0,0,0],\n",
    "     [1,1,1,1,1],\n",
    "     [0,0,1,0,0],\n",
    "     [0,0,1,0,0],\n",
    "     [0,0,1,0,0]]\n",
    "\n",
    "U = [[1,0,0,0,1],\n",
    "     [1,0,0,0,1],\n",
    "     [1,0,0,0,1],\n",
    "     [1,0,0,0,1],\n",
    "     [1,1,1,1,1]]\n",
    "\n",
    "V = [[0,0,0,0,0],\n",
    "     [1,0,0,0,1],\n",
    "     [0,1,0,1,0],\n",
    "     [0,0,1,0,0],\n",
    "     [0,0,0,0,0]]\n",
    "\n",
    "\n",
    "W = [[1,0,0,0,1],\n",
    "     [1,0,0,0,1],\n",
    "     [1,0,1,0,1],\n",
    "     [1,1,1,1,1],\n",
    "     [1,1,0,1,1]]\n",
    "\n",
    "X = [[1,0,0,0,1],\n",
    "     [0,1,0,1,0],\n",
    "     [0,0,1,0,0],\n",
    "     [0,1,0,1,0],\n",
    "     [1,0,0,0,1]]\n",
    "\n",
    "Y = [[1,0,0,0,1],\n",
    "     [0,1,0,1,0],\n",
    "     [0,0,1,0,0],\n",
    "     [0,0,1,0,0],\n",
    "     [0,0,1,0,0]]\n",
    "\n",
    "Z = [[1,1,1,1,1],\n",
    "     [0,0,0,1,0],\n",
    "     [0,0,1,0,0],\n",
    "     [0,1,0,0,0],\n",
    "     [1,1,1,1,1]]\n"
   ]
  },
  {
   "cell_type": "code",
   "execution_count": 3,
   "metadata": {},
   "outputs": [],
   "source": [
    "letters = [A,B,C,D,E,F,G,H,I,J,K,L,M,N,O,P,Q,R,S,T,U,V,W,X,Y,Z]"
   ]
  },
  {
   "cell_type": "code",
   "execution_count": 79,
   "metadata": {},
   "outputs": [],
   "source": [
    "os.makedirs(\"alphabet\",exist_ok=True)"
   ]
  },
  {
   "cell_type": "code",
   "execution_count": 80,
   "metadata": {},
   "outputs": [],
   "source": [
    "np.save(\"alphabet/letters\",letters)"
   ]
  },
  {
   "cell_type": "code",
   "execution_count": 81,
   "metadata": {},
   "outputs": [
    {
     "data": {
      "image/png": "[encoded data removed]",
      "text/plain": [
       "<Figure size 3000x300 with 26 Axes>"
      ]
     },
     "metadata": {},
     "output_type": "display_data"
    }
   ],
   "source": [
    "letters = [A,B,C,D,E,F,G,H,I,J,K,L,M,N,O,P,Q,R,S,T,U,V,W,X,Y,Z]\n",
    "\n",
    "ii = 0\n",
    "plt.figure(figsize=(30,3))\n",
    "for indA in [0,1,2]:\n",
    "    for indB in range(10):\n",
    "        ax=plt.subplot2grid((3,30),(indA,indB))\n",
    "        ax.imshow(letters[ii])\n",
    "        ax.axis(\"off\")\n",
    "        ii+=1\n",
    "        if ii>=len(letters):\n",
    "            break\n"
   ]
  },
  {
   "cell_type": "code",
   "execution_count": 128,
   "metadata": {},
   "outputs": [],
   "source": [
    "binary_map = [np.binary_repr(k+1, width=5) for k in range(len(letters))]"
   ]
  },
  {
   "cell_type": "code",
   "execution_count": 129,
   "metadata": {},
   "outputs": [],
   "source": [
    "np.save(\"alphabet/binary_map\",binary_map)"
   ]
  },
  {
   "cell_type": "code",
   "execution_count": 4,
   "metadata": {},
   "outputs": [],
   "source": [
    "import pennylane as qml\n",
    "from pennylane import numpy as np\n"
   ]
  },
  {
   "cell_type": "code",
   "execution_count": 221,
   "metadata": {},
   "outputs": [],
   "source": [
    "dev = qml.device(\"default.qubit\", wires=5)\n",
    "\n",
    "@qml.qnode(dev)\n",
    "def circuit(params, control):\n",
    "    qml.RX(control,wires=0)\n",
    "    j=0\n",
    "    for k in range(5):\n",
    "        qml.RX(params[k],wires=k)\n",
    "        #j+=1\n",
    "        #qml.RZ(params[j],wires=k)\n",
    "    return np.array([qml.expval(qml.PauliZ(k)) for k in range(5)])"
   ]
  },
  {
   "cell_type": "code",
   "execution_count": 222,
   "metadata": {},
   "outputs": [
    {
     "name": "stdout",
     "output_type": "stream",
     "text": [
      "0: ──RX(0.00)──RX(1.00)─┤  <Z>\n",
      "1: ──RX(1.00)───────────┤  <Z>\n",
      "2: ──RX(1.00)───────────┤  <Z>\n",
      "3: ──RX(1.00)───────────┤  <Z>\n",
      "4: ──RX(1.00)───────────┤  <Z>\n"
     ]
    }
   ],
   "source": [
    "draw = qml.draw(circuit)\n",
    "print(draw(np.ones(10), 0))"
   ]
  },
  {
   "cell_type": "markdown",
   "metadata": {},
   "source": [
    "Let's split the 2Pi interval in 3\n",
    "\n",
    "on 0 ---> output C\n",
    "\n",
    "on 2pi/3 --> outpuc V\n",
    "\n",
    "on 4pi/3 --> output C"
   ]
  },
  {
   "cell_type": "code",
   "execution_count": 224,
   "metadata": {},
   "outputs": [
    {
     "data": {
      "text/plain": [
       "tensor([0.71520043, 0.87497036, 0.98650385, 0.67912212, 0.89127657], requires_grad=True)"
      ]
     },
     "execution_count": 224,
     "metadata": {},
     "output_type": "execute_result"
    }
   ],
   "source": [
    "circuit(np.random.rand(5),4*np.pi)"
   ]
  },
  {
   "cell_type": "code",
   "execution_count": 258,
   "metadata": {},
   "outputs": [],
   "source": [
    "target_1 = np.array([0,0,0,0,1])\n",
    "target_2 = np.array([1,0,1,0,1])\n",
    "def cost(x):\n",
    "    preds_1 = (circuit(x,0.) + 1.)*0.5\n",
    "    return np.mean( (preds_1 - target_1)**2  )\n",
    "\n"
   ]
  },
  {
   "cell_type": "code",
   "execution_count": 265,
   "metadata": {},
   "outputs": [
    {
     "name": "stdout",
     "output_type": "stream",
     "text": [
      "0.4850723371920491\n"
     ]
    }
   ],
   "source": [
    "init_params = np.array(np.ones(5), requires_grad=True)\n",
    "print(cost(init_params))\n",
    "circuit(init_params, 0.)\n",
    "input_1 = 0.\n",
    "input_2 = 2*np.pi/3"
   ]
  },
  {
   "cell_type": "code",
   "execution_count": 263,
   "metadata": {},
   "outputs": [
    {
     "name": "stdout",
     "output_type": "stream",
     "text": [
      "Cost after step   100:  0.0000108\n",
      "Optimized rotation angles: [ 3.26241231  3.26241231  3.26241231  3.26241231 -0.06287248]\n"
     ]
    },
    {
     "data": {
      "text/plain": [
       "tensor([0.00364491, 0.00364491, 0.00364491, 0.00364491, 0.99901209], requires_grad=True)"
      ]
     },
     "execution_count": 263,
     "metadata": {},
     "output_type": "execute_result"
    }
   ],
   "source": [
    "opt = qml.AdamOptimizer(stepsize=1e-1)\n",
    "# set the number of steps\n",
    "steps = 100\n",
    "# set the initial parameter values\n",
    "params = init_params\n",
    "\n",
    "for i in range(steps):\n",
    "    # update the circuit parameters\n",
    "    params = opt.step(cost, params)\n",
    "\n",
    "    if (i + 1) % 100 == 0:\n",
    "        print(\"Cost after step {:5d}: {: .7f}\".format(i + 1, cost(params)))\n",
    "\n",
    "print(\"Optimized rotation angles: {}\".format(params))\n",
    "(circuit(params,input_1) + 1)*.5"
   ]
  },
  {
   "cell_type": "code",
   "execution_count": 266,
   "metadata": {},
   "outputs": [
    {
     "data": {
      "text/plain": [
       "tensor([0.8003668 , 0.00364491, 0.00364491, 0.00364491, 0.99901209], requires_grad=True)"
      ]
     },
     "execution_count": 266,
     "metadata": {},
     "output_type": "execute_result"
    }
   ],
   "source": [
    "(circuit(params,input_2) + 1)*.5"
   ]
  },
  {
   "cell_type": "code",
   "execution_count": 202,
   "metadata": {},
   "outputs": [],
   "source": [
    "target_1 = (np.array([0,0,0,0,1]) +1)*0.5\n",
    "def cost(x):\n",
    "    pred = (circuit(x,0.) +1)*0.5#this guarantes that pred > 0\n",
    "    return -np.mean(np.log10(pred + 1e-9)*target_1)"
   ]
  },
  {
   "cell_type": "code",
   "execution_count": null,
   "metadata": {},
   "outputs": [],
   "source": []
  },
  {
   "cell_type": "code",
   "execution_count": null,
   "metadata": {},
   "outputs": [],
   "source": []
  },
  {
   "cell_type": "code",
   "execution_count": null,
   "metadata": {},
   "outputs": [],
   "source": []
  },
  {
   "cell_type": "code",
   "execution_count": 334,
   "metadata": {},
   "outputs": [],
   "source": [
    "dev = qml.device(\"default.qubit\", wires=5)\n",
    "\n",
    "@qml.qnode(dev)\n",
    "def circuit(params, control):\n",
    "    j=0\n",
    "    for qml_layer in range(4):\n",
    "        qml.RX(control,wires=0)\n",
    "        for k in range(5):\n",
    "            qml.RX(params[j],wires=k)\n",
    "            j+=1\n",
    "            qml.RZ(params[j],wires=k)\n",
    "            j+=1\n",
    "            qml.RX(params[j],wires=k)\n",
    "            j+=1\n",
    "        for k in range(4):\n",
    "            qml.CNOT(wires=[k,k+1])\n",
    "    return np.array([qml.expval(qml.PauliZ(k)) for k in range(5)])"
   ]
  },
  {
   "cell_type": "code",
   "execution_count": 335,
   "metadata": {},
   "outputs": [
    {
     "name": "stdout",
     "output_type": "stream",
     "text": [
      "0: ──RX(0.00)───RX(-1.10)──RZ(-0.96)──RX(0.81)─╭●──RX(0.00)──RX(0.48)───RZ(-1.60)──RX(2.01)─\n",
      "1: ──RX(-0.91)──RZ(-1.57)──RX(-0.04)───────────╰X─╭●─────────RX(-1.38)──RZ(-0.24)──RX(-0.13)\n",
      "2: ──RX(0.57)───RZ(-1.22)──RX(0.24)───────────────╰X────────╭●──────────RX(-0.40)──RZ(0.05)─\n",
      "3: ──RX(-0.85)──RZ(-0.32)──RX(-0.60)────────────────────────╰X─────────╭●──────────RX(-0.79)\n",
      "4: ──RX(0.56)───RZ(1.24)───RX(0.38)────────────────────────────────────╰X──────────RX(1.18)─\n",
      "\n",
      "──╭●──────────RX(0.00)───RX(-1.78)──RZ(-0.01)──RX(-0.30)─╭●──────────RX(0.00)──RX(0.36)──RZ(0.33)─\n",
      "──╰X─────────╭●──────────RX(0.59)───RZ(0.55)───RX(0.94)──╰X─────────╭●─────────RX(1.29)──RZ(0.29)─\n",
      "───RX(1.57)──╰X─────────╭●──────────RX(-0.28)──RZ(-0.58)──RX(-0.33)─╰X────────╭●─────────RX(-1.83)\n",
      "───RZ(-0.54)──RX(-1.27)─╰X─────────╭●──────────RX(-0.52)──RZ(0.15)───RX(1.29)─╰X────────╭●────────\n",
      "───RZ(0.60)───RX(-0.16)────────────╰X──────────RX(0.25)───RZ(-0.88)──RX(1.52)───────────╰X────────\n",
      "\n",
      "───RX(-0.34)─╭●─────────────────────────┤  <Z>\n",
      "───RX(-0.26)─╰X─────────╭●──────────────┤  <Z>\n",
      "───RZ(-0.98)──RX(-1.33)─╰X────────╭●────┤  <Z>\n",
      "───RX(1.24)───RZ(-1.53)──RX(0.63)─╰X─╭●─┤  <Z>\n",
      "───RX(1.39)───RZ(-1.85)──RX(1.81)────╰X─┤  <Z>\n"
     ]
    }
   ],
   "source": [
    "draw = qml.draw(circuit)\n",
    "print(draw(np.random.randn(75), 0))"
   ]
  },
  {
   "cell_type": "code",
   "execution_count": 336,
   "metadata": {},
   "outputs": [],
   "source": []
  },
  {
   "cell_type": "code",
   "execution_count": 337,
   "metadata": {},
   "outputs": [
    {
     "name": "stdout",
     "output_type": "stream",
     "text": [
      "Cost after step    10:  0.2999387\n",
      "Cost after step    20:  0.1851070\n",
      "Cost after step    30:  0.1227127\n",
      "Cost after step    40:  0.1001695\n",
      "Cost after step    50:  0.0867908\n",
      "Cost after step    60:  0.0831901\n",
      "Cost after step    70:  0.0817676\n",
      "Cost after step    80:  0.0797345\n",
      "Cost after step    90:  0.0737013\n",
      "Cost after step   100:  0.0549506\n",
      "Cost after step   110:  0.0365724\n",
      "Cost after step   120:  0.0308770\n",
      "Cost after step   130:  0.0171794\n",
      "Cost after step   140:  0.0040170\n",
      "Cost after step   150:  0.0028682\n",
      "Cost after step   160:  0.0022730\n",
      "Cost after step   170:  0.0021611\n",
      "Cost after step   180:  0.0019947\n",
      "Cost after step   190:  0.0019179\n",
      "Cost after step   200:  0.0018857\n",
      "Cost after step   210:  0.0018585\n",
      "Cost after step   220:  0.0018270\n",
      "Cost after step   230:  0.0017928\n",
      "Cost after step   240:  0.0017544\n",
      "Cost after step   250:  0.0017092\n",
      "Cost after step   260:  0.0016549\n",
      "Cost after step   270:  0.0015879\n",
      "Cost after step   280:  0.0015024\n",
      "Cost after step   290:  0.0013894\n",
      "Cost after step   300:  0.0012371\n",
      "Cost after step   310:  0.0010371\n",
      "Cost after step   320:  0.0008073\n",
      "Cost after step   330:  0.0006027\n",
      "Cost after step   340:  0.0004678\n",
      "Cost after step   350:  0.0003991\n",
      "Cost after step   360:  0.0003703\n",
      "Cost after step   370:  0.0003599\n",
      "Cost after step   380:  0.0003558\n",
      "Cost after step   390:  0.0003533\n",
      "Cost after step   400:  0.0003510\n",
      "Cost after step   410:  0.0003486\n",
      "Cost after step   420:  0.0003461\n",
      "Cost after step   430:  0.0003435\n",
      "Cost after step   440:  0.0003409\n",
      "Cost after step   450:  0.0003382\n",
      "Cost after step   460:  0.0003355\n",
      "Cost after step   470:  0.0003329\n",
      "Cost after step   480:  0.0003304\n",
      "Cost after step   490:  0.0003280\n",
      "Cost after step   500:  0.0003259\n",
      "Cost after step   510:  0.0003240\n",
      "Cost after step   520:  0.0003223\n",
      "Cost after step   530:  0.0003208\n",
      "Cost after step   540:  0.0003196\n",
      "Cost after step   550:  0.0003186\n",
      "Cost after step   560:  0.0003178\n",
      "Cost after step   570:  0.0003172\n",
      "Cost after step   580:  0.0003167\n",
      "Cost after step   590:  0.0003164\n",
      "Cost after step   600:  0.0003161\n",
      "Cost after step   610:  0.0003159\n",
      "Cost after step   620:  0.0003157\n",
      "Cost after step   630:  0.0003156\n",
      "Cost after step   640:  0.0003155\n",
      "Cost after step   650:  0.0003155\n",
      "Cost after step   660:  0.0003155\n",
      "Cost after step   670:  0.0003154\n",
      "Cost after step   680:  0.0003154\n",
      "Cost after step   690:  0.0003154\n",
      "Cost after step   700:  0.0003154\n",
      "Cost after step   710:  0.0003154\n",
      "Cost after step   720:  0.0003154\n",
      "Cost after step   730:  0.0003154\n",
      "Cost after step   740:  0.0003154\n",
      "Cost after step   750:  0.0003154\n",
      "Cost after step   760:  0.0003154\n",
      "Cost after step   770:  0.0003154\n",
      "Cost after step   780:  0.0003154\n",
      "Cost after step   790:  0.0003154\n",
      "Cost after step   800:  0.0003154\n",
      "Cost after step   810:  0.0003154\n",
      "Cost after step   820:  0.0003404\n",
      "Cost after step   830:  0.0003911\n",
      "Cost after step   840:  0.0003433\n",
      "Cost after step   850:  0.0003250\n",
      "Cost after step   860:  0.0003174\n",
      "Cost after step   870:  0.0003168\n",
      "Cost after step   880:  0.0003890\n",
      "Cost after step   890:  0.0003254\n",
      "Cost after step   900:  0.0003194\n",
      "Cost after step   910:  0.0003166\n",
      "Cost after step   920:  0.0003162\n",
      "Cost after step   930:  0.0003157\n",
      "Cost after step   940:  0.0003154\n",
      "Cost after step   950:  0.0003155\n",
      "Cost after step   960:  0.0003245\n",
      "Cost after step   970:  0.0003185\n",
      "Cost after step   980:  0.0003164\n",
      "Cost after step   990:  0.0003229\n",
      "Cost after step  1000:  0.0005597\n",
      "Optimized rotation angles: [ 2.21548679e+00  1.56734913e+00 -1.57409523e+00  1.64116068e+00\n",
      " -3.21220832e-03 -5.63192410e-01  9.42986797e-02  3.23469813e+00\n",
      "  2.25007353e+00  4.60745742e-01 -1.05361108e-03  1.05986131e+00\n",
      "  1.36047332e+00 -4.84604811e-03  1.04142973e+00  1.57043834e+00\n",
      " -2.28519055e+00  7.03953932e-01 -3.13167445e+00 -8.04802979e-01\n",
      "  1.57704478e+00 -1.56056605e+00  1.57393834e+00 -1.57990119e+00\n",
      " -1.93207014e+00 -3.50977233e-02 -1.19039857e+00  7.60350861e-01\n",
      "  3.09759750e+00 -1.83499249e+00 -1.86588351e+00 -8.22600338e-01\n",
      "  1.26470845e+00  1.04026154e+00  2.03701538e+00 -2.85424040e+00\n",
      "  1.57111221e+00  1.57136386e+00 -1.10686696e+00 -4.86345900e-02\n",
      " -2.05859918e-03 -6.53409212e-02  2.86514144e-01 -1.56991910e+00\n",
      "  5.82087181e-01  1.51848518e+00 -1.57024749e+00 -1.56965079e+00\n",
      " -1.46152997e-02 -6.19074570e-01 -3.15825675e+00 -1.68748922e+00\n",
      "  1.58078349e+00  1.57175239e+00  7.41595900e-01  1.57317207e+00\n",
      "  1.56874330e+00 -2.49641571e-01 -1.80269769e-03 -8.60319779e-01\n",
      "  1.17954669e+00  6.15711888e-01 -2.69301408e-01 -5.92108803e-01\n",
      "  1.40438585e+00  6.17482421e-01 -2.49788903e+00 -3.59184801e-01\n",
      "  5.35667800e-01 -2.90422734e-01 -9.80308600e-02 -1.75166641e+00\n",
      "  9.20230224e-01 -8.36090886e-01  1.26978806e+00]\n"
     ]
    },
    {
     "data": {
      "text/plain": [
       "tensor([0.0087192 , 0.00860532, 0.00717656, 0.00895671, 0.98585613], requires_grad=True)"
      ]
     },
     "execution_count": 337,
     "metadata": {},
     "output_type": "execute_result"
    }
   ],
   "source": [
    "target_1 = np.array([0,0,0,0,1])\n",
    "target_2 = np.array([0,0,1,0,1])\n",
    "target_3 = np.array([1,0,0,0,0])\n",
    "\n",
    "\n",
    "\n",
    "def cost(x):\n",
    "    preds_1 = (circuit(x,input_1) + 1.)*0.5\n",
    "    preds_2 = (circuit(x,input_2) + 1.)*0.5\n",
    "    preds_3 = (circuit(x,input_3) + 1.)*0.5\n",
    "    return np.mean( (preds_1 - target_1)**2  ) + np.mean( (preds_2 - target_2)**2  ) +  np.mean( (preds_3 - target_3)**2  )\n",
    "\n",
    "input_1 = 0.\n",
    "input_2 = 2*np.pi/3\n",
    "input_3 = 4*np.pi/3\n",
    "\n",
    "init_params = np.array(np.random.randn(75), requires_grad=True)\n",
    "\n",
    "opt = qml.AdamOptimizer(stepsize=1e-1)\n",
    "steps = 1000\n",
    "params = init_params\n",
    "for i in range(steps):\n",
    "    params = opt.step(cost, params)\n",
    "    if (i + 1) % 10 == 0:\n",
    "        print(\"Cost after step {:5d}: {: .7f}\".format(i + 1, cost(params)))\n",
    "\n",
    "print(\"Optimized rotation angles: {}\".format(params))\n",
    "(circuit(params,input_1) + 1)*.5"
   ]
  },
  {
   "cell_type": "code",
   "execution_count": 338,
   "metadata": {},
   "outputs": [
    {
     "data": {
      "text/plain": [
       "tensor([0.0087192 , 0.00860532, 0.00717656, 0.00895671, 0.98585613], requires_grad=True)"
      ]
     },
     "execution_count": 338,
     "metadata": {},
     "output_type": "execute_result"
    }
   ],
   "source": [
    "(circuit(params,input_1) + 1)*.5"
   ]
  },
  {
   "cell_type": "code",
   "execution_count": 339,
   "metadata": {},
   "outputs": [
    {
     "data": {
      "text/plain": [
       "tensor([0.00963615, 0.02730406, 0.98275739, 0.02765115, 0.98891314], requires_grad=True)"
      ]
     },
     "execution_count": 339,
     "metadata": {},
     "output_type": "execute_result"
    }
   ],
   "source": [
    "(circuit(params,input_2) + 1)*.5"
   ]
  },
  {
   "cell_type": "code",
   "execution_count": 340,
   "metadata": {},
   "outputs": [
    {
     "data": {
      "text/plain": [
       "tensor([0.99490605, 0.00743055, 0.00617243, 0.00785871, 0.01059286], requires_grad=True)"
      ]
     },
     "execution_count": 340,
     "metadata": {},
     "output_type": "execute_result"
    }
   ],
   "source": [
    "(circuit(params,input_3) + 1)*.5"
   ]
  },
  {
   "cell_type": "code",
   "execution_count": 341,
   "metadata": {},
   "outputs": [],
   "source": [
    "os.makedirs(\"params\",exist_ok=True)"
   ]
  },
  {
   "cell_type": "code",
   "execution_count": 344,
   "metadata": {},
   "outputs": [],
   "source": [
    "np.save(\"params/model_3_initial\",init_params)\n",
    "np.save(\"params/model_3_trained\",params)"
   ]
  },
  {
   "cell_type": "code",
   "execution_count": null,
   "metadata": {},
   "outputs": [],
   "source": []
  },
  {
   "cell_type": "code",
   "execution_count": 7,
   "metadata": {},
   "outputs": [],
   "source": [
    "dev = qml.device(\"default.qubit\", wires=5)\n",
    "\n",
    "@qml.qnode(dev)\n",
    "def circuit(params, control):\n",
    "    j=0\n",
    "    for qml_layer in range(5):\n",
    "        qml.RX(control,wires=0)\n",
    "        for k in range(5):\n",
    "            qml.RX(params[j],wires=k)\n",
    "            j+=1\n",
    "            qml.RZ(params[j],wires=k)\n",
    "            j+=1\n",
    "            qml.RX(params[j],wires=k)\n",
    "            j+=1\n",
    "            \n",
    "        for k in range(4):\n",
    "            qml.CNOT(wires=[k,k+1])\n",
    "        qml.RZ(control,wires=0)\n",
    "        \n",
    "    return np.array([qml.expval(qml.PauliZ(k)) for k in range(5)])"
   ]
  },
  {
   "cell_type": "code",
   "execution_count": 8,
   "metadata": {},
   "outputs": [
    {
     "name": "stdout",
     "output_type": "stream",
     "text": [
      "Cost after step    10:  0.7166612\n",
      "Cost after step    20:  0.5427871\n",
      "Cost after step    30:  0.4419901\n",
      "Cost after step    40:  0.3789370\n",
      "Cost after step    50:  0.3239130\n",
      "Cost after step    60:  0.2944685\n",
      "Cost after step    70:  0.2647876\n",
      "Cost after step    80:  0.2284736\n",
      "Cost after step    90:  0.2082931\n",
      "Cost after step   100:  0.2012709\n",
      "Cost after step   110:  0.1956247\n",
      "Cost after step   120:  0.1902245\n",
      "Cost after step   130:  0.1858089\n",
      "Cost after step   140:  0.1828561\n",
      "Cost after step   150:  0.1806431\n",
      "Cost after step   160:  0.1747866\n",
      "Cost after step   170:  0.1517044\n",
      "Cost after step   180:  0.1157440\n",
      "Cost after step   190:  0.1080098\n",
      "Cost after step   200:  0.0999270\n",
      "Cost after step   210:  0.0931080\n",
      "Cost after step   220:  0.0917288\n",
      "Cost after step   230:  0.0903174\n",
      "Cost after step   240:  0.0896941\n",
      "Cost after step   250:  0.0893562\n",
      "Cost after step   260:  0.0892670\n",
      "Cost after step   270:  0.0892406\n",
      "Cost after step   280:  0.0892293\n",
      "Cost after step   290:  0.0892234\n",
      "Cost after step   300:  0.0892207\n",
      "Cost after step   310:  0.0892181\n",
      "Cost after step   320:  0.0892160\n",
      "Cost after step   330:  0.0892140\n",
      "Cost after step   340:  0.0892120\n",
      "Cost after step   350:  0.0892101\n",
      "Cost after step   360:  0.0892089\n",
      "Cost after step   370:  0.0894952\n",
      "Cost after step   380:  0.0892714\n",
      "Cost after step   390:  0.0893112\n",
      "Cost after step   400:  0.0892175\n",
      "Cost after step   410:  0.0892089\n",
      "Cost after step   420:  0.0892008\n",
      "Cost after step   430:  0.0892007\n",
      "Cost after step   440:  0.0891986\n",
      "Cost after step   450:  0.0892325\n",
      "Cost after step   460:  0.0897612\n",
      "Cost after step   470:  0.0892175\n",
      "Cost after step   480:  0.0892823\n",
      "Cost after step   490:  0.0892084\n",
      "Cost after step   500:  0.0895005\n",
      "Cost after step   510:  0.0893525\n",
      "Cost after step   520:  0.0893918\n",
      "Cost after step   530:  0.0892286\n",
      "Cost after step   540:  0.0894974\n",
      "Cost after step   550:  0.0893256\n",
      "Cost after step   560:  0.0892206\n",
      "Cost after step   570:  0.0896923\n",
      "Cost after step   580:  0.0893151\n",
      "Cost after step   590:  0.0892215\n",
      "Cost after step   600:  0.0896457\n",
      "Cost after step   610:  0.0892760\n",
      "Cost after step   620:  0.0892448\n",
      "Cost after step   630:  0.0892276\n",
      "Cost after step   640:  0.0894768\n",
      "Cost after step   650:  0.0894810\n",
      "Cost after step   660:  0.0892929\n",
      "Cost after step   670:  0.0892721\n",
      "Cost after step   680:  0.0892080\n",
      "Cost after step   690:  0.0892004\n",
      "Cost after step   700:  0.0894211\n",
      "Cost after step   710:  0.0893995\n",
      "Cost after step   720:  0.0892823\n",
      "Cost after step   730:  0.0891849\n",
      "Cost after step   740:  0.0892786\n",
      "Cost after step   750:  0.0892810\n",
      "Cost after step   760:  0.0894181\n",
      "Cost after step   770:  0.0892811\n",
      "Cost after step   780:  0.0891749\n",
      "Cost after step   790:  0.0894746\n",
      "Cost after step   800:  0.0891836\n",
      "Cost after step   810:  0.0891982\n",
      "Cost after step   820:  0.0891884\n",
      "Cost after step   830:  0.0899228\n",
      "Cost after step   840:  0.0899616\n",
      "Cost after step   850:  0.0892897\n",
      "Cost after step   860:  0.0891601\n",
      "Cost after step   870:  0.0891778\n",
      "Cost after step   880:  0.0891594\n",
      "Cost after step   890:  0.0895187\n",
      "Cost after step   900:  0.0894438\n",
      "Cost after step   910:  0.0892139\n",
      "Cost after step   920:  0.0891457\n",
      "Cost after step   930:  0.0893399\n",
      "Cost after step   940:  0.0894204\n",
      "Cost after step   950:  0.0893031\n",
      "Cost after step   960:  0.0892532\n",
      "Cost after step   970:  0.0891674\n",
      "Cost after step   980:  0.0892075\n",
      "Cost after step   990:  0.0891825\n",
      "Cost after step  1000:  0.0890883\n"
     ]
    }
   ],
   "source": [
    "target_1 = np.array([0,0,0,0,1])\n",
    "target_2 = np.array([0,0,0,1,0])\n",
    "target_3 = np.array([0,0,1,0,0])\n",
    "target_4 = np.array([0,1,0,0,0])\n",
    "target_5 = np.array([1,0,0,0,0])\n",
    "\n",
    "targets = [target_1, target_2, target_3, target_4,target_5]\n",
    "\n",
    "\n",
    "def cost(x):\n",
    "    c = 0\n",
    "    for i,t in zip(inputs,targets):\n",
    "        p = (circuit(x, i) + 1.)*0.5\n",
    "        c+=np.mean( (p - t)**2)\n",
    "    return c\n",
    "\n",
    "inputs = [2*k*np.pi/5 for k in range(5)]\n",
    "\n",
    "init_params = np.array(np.random.randn(75), requires_grad=True)\n",
    "\n",
    "opt = qml.AdamOptimizer(stepsize=1e-1)\n",
    "steps = 1000\n",
    "params = init_params\n",
    "for i in range(steps):\n",
    "    params = opt.step(cost, params)\n",
    "    if (i + 1) % 10 == 0:\n",
    "        print(\"Cost after step {:5d}: {: .7f}\".format(i + 1, cost(params)))\n"
   ]
  },
  {
   "cell_type": "code",
   "execution_count": 15,
   "metadata": {},
   "outputs": [
    {
     "name": "stdout",
     "output_type": "stream",
     "text": [
      "[0.09813216 0.05817273 0.08380241 0.06088026 0.8548792 ] [0 0 0 0 1] \n",
      "\n",
      "[0.05001605 0.03161608 0.0959172  0.88109969 0.08014281] [0 0 0 1 0] \n",
      "\n",
      "[0.09974305 0.07266491 0.85756697 0.11371159 0.06279653] [0 0 1 0 0] \n",
      "\n",
      "[0.03963013 0.85706762 0.08539159 0.0987706  0.09863711] [0 1 0 0 0] \n",
      "\n",
      "[0.91580321 0.2123903  0.21180918 0.25433905 0.32320258] [1 0 0 0 0] \n",
      "\n"
     ]
    }
   ],
   "source": [
    "def map_to_bits(x):\n",
    "  return 0.5*(x+1.)\n",
    "\n",
    "\n",
    "for ii,tt in zip(inputs,targets):\n",
    "  print(map_to_bits(circuit(params, ii)), tt, \"\\n\")"
   ]
  },
  {
   "cell_type": "code",
   "execution_count": 12,
   "metadata": {},
   "outputs": [],
   "source": [
    "np.save(\"params/model_5_initial\",init_params)\n",
    "np.save(\"params/model_5_trained\",params)"
   ]
  },
  {
   "cell_type": "code",
   "execution_count": null,
   "metadata": {},
   "outputs": [],
   "source": []
  }
 ],
 "metadata": {
  "kernelspec": {
   "display_name": "Python 3 (ipykernel)",
   "language": "python",
   "name": "python3"
  },
  "language_info": {
   "codemirror_mode": {
    "name": "ipython",
    "version": 3
   },
   "file_extension": ".py",
   "mimetype": "text/x-python",
   "name": "python",
   "nbconvert_exporter": "python",
   "pygments_lexer": "ipython3",
   "version": "3.10.12"
  }
 },
 "nbformat": 4,
 "nbformat_minor": 2
}
