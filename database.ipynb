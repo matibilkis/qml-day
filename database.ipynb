{
 "cells": [
  {
   "cell_type": "code",
   "execution_count": 14,
   "metadata": {},
   "outputs": [],
   "source": [
    "import numpy as np\n",
    "import matplotlib.pyplot as plt\n",
    "import os"
   ]
  },
  {
   "cell_type": "code",
   "execution_count": 77,
   "metadata": {},
   "outputs": [],
   "source": [
    "A = [[0,0,0,0,0],\n",
    "     [0,1,1,1,0],\n",
    "     [0,1,0,1,0],\n",
    "     [0,1,1,1,0],\n",
    "     [0,1,0,1,0]], \n",
    "\n",
    "B = [[0,1,1,1,0],\n",
    "     [0,1,0,1,0],\n",
    "     [0,1,1,1,0],\n",
    "     [0,1,0,1,0],\n",
    "     [0,1,1,1,0]]\n",
    "\n",
    "C = [[0,0,0,0,0],\n",
    "     [0,1,1,1,0],\n",
    "     [0,1,0,0,0],\n",
    "     [0,1,1,1,0],\n",
    "     [0,0,0,0,0]]\n",
    "\n",
    "D = [[0,1,1,0,0],\n",
    "     [0,1,0,1,0],\n",
    "     [0,1,0,0,1],\n",
    "     [0,1,0,1,0],\n",
    "     [0,1,1,0,0]]\n",
    "\n",
    "E = [[0,1,1,1,0],\n",
    "     [0,1,0,0,0],\n",
    "     [0,1,1,1,0],\n",
    "     [0,1,0,0,0],\n",
    "     [0,1,1,1,0]]\n",
    "\n",
    "F = [[0,1,1,1,0],\n",
    "     [0,1,0,0,0],\n",
    "     [0,1,1,1,0],\n",
    "     [0,1,0,0,0],\n",
    "     [0,1,0,0,0]]\n",
    "\n",
    "G = [[0,1,1,1,0],\n",
    "     [0,1,0,0,0],\n",
    "     [0,1,1,1,0],\n",
    "     [0,1,0,1,0],\n",
    "     [0,1,1,1,0]]\n",
    "\n",
    "H = [[1,0,0,0,1],\n",
    "     [1,0,0,0,1],\n",
    "     [1,1,1,1,1],\n",
    "     [1,0,0,0,1],\n",
    "     [1,0,0,0,1]]\n",
    "\n",
    "I = [[0,0,1,0,0],\n",
    "     [0,0,1,0,0],\n",
    "     [0,0,1,0,0],\n",
    "     [0,0,1,0,0],\n",
    "     [0,0,1,0,0]]\n",
    "\n",
    "J = [[0,0,0,1,0],\n",
    "     [0,0,0,1,0],\n",
    "     [0,0,0,1,0],\n",
    "     [0,1,0,1,0],\n",
    "     [0,1,1,1,0]]\n",
    "\n",
    "K = [[0,1,0,0,1],\n",
    "     [0,1,0,1,0],\n",
    "     [0,1,1,0,0],\n",
    "     [0,1,0,1,0],\n",
    "     [0,1,0,0,1]]\n",
    "\n",
    "L = [[1,0,0,0,0],\n",
    "     [1,0,0,0,0],\n",
    "     [1,0,0,0,0],\n",
    "     [1,0,0,0,0],\n",
    "     [1,1,1,1,1]]\n",
    "\n",
    "M = [[1,0,0,0,1],\n",
    "     [1,1,0,1,1],\n",
    "     [1,0,1,0,1],\n",
    "     [1,0,0,0,1],\n",
    "     [1,0,0,0,1]]\n",
    "\n",
    "N = [[1,0,0,0,1],\n",
    "     [1,1,0,0,1],\n",
    "     [1,0,1,0,1],\n",
    "     [1,0,0,1,1],\n",
    "     [1,0,0,0,1]]\n",
    "\n",
    "O = [[1,1,1,1,1],\n",
    "     [1,0,0,0,1],\n",
    "     [1,0,0,0,1],\n",
    "     [1,0,0,0,1],\n",
    "     [1,1,1,1,1]]\n",
    "\n",
    "P = [[1,1,1,1,1],\n",
    "     [1,0,0,0,1],\n",
    "     [1,1,1,1,1],\n",
    "     [1,0,0,0,0],\n",
    "     [1,0,0,0,0]]\n",
    "\n",
    "Q = [[1,1,1,1,1],\n",
    "     [1,0,0,0,1],\n",
    "     [1,0,1,0,1],\n",
    "     [1,0,0,1,1],\n",
    "     [1,1,1,1,1]]\n",
    "\n",
    "R = [[1,1,1,1,0],\n",
    "     [1,0,0,1,0],\n",
    "     [1,1,1,1,0],\n",
    "     [1,0,0,1,0],\n",
    "     [1,0,0,0,1]]\n",
    "\n",
    "\n",
    "S = [[0,1,1,1,0],\n",
    "     [0,1,0,0,0],\n",
    "     [0,1,1,1,0],\n",
    "     [0,0,0,1,0],\n",
    "     [0,1,1,1,0]]\n",
    "\n",
    "T = [[0,0,0,0,0],\n",
    "     [1,1,1,1,1],\n",
    "     [0,0,1,0,0],\n",
    "     [0,0,1,0,0],\n",
    "     [0,0,1,0,0]]\n",
    "\n",
    "U = [[1,0,0,0,1],\n",
    "     [1,0,0,0,1],\n",
    "     [1,0,0,0,1],\n",
    "     [1,0,0,0,1],\n",
    "     [1,1,1,1,1]]\n",
    "\n",
    "V = [[0,0,0,0,0],\n",
    "     [1,0,0,0,1],\n",
    "     [0,1,0,1,0],\n",
    "     [0,0,1,0,0],\n",
    "     [0,0,0,0,0]]\n",
    "\n",
    "\n",
    "W = [[1,0,0,0,1],\n",
    "     [1,0,0,0,1],\n",
    "     [1,0,1,0,1],\n",
    "     [1,1,1,1,1],\n",
    "     [1,1,0,1,1]]\n",
    "\n",
    "X = [[1,0,0,0,1],\n",
    "     [0,1,0,1,0],\n",
    "     [0,0,1,0,0],\n",
    "     [0,1,0,1,0],\n",
    "     [1,0,0,0,1]]\n",
    "\n",
    "Y = [[1,0,0,0,1],\n",
    "     [0,1,0,1,0],\n",
    "     [0,0,1,0,0],\n",
    "     [0,0,1,0,0],\n",
    "     [0,0,1,0,0]]\n",
    "\n",
    "Z = [[1,1,1,1,1],\n",
    "     [0,0,0,1,0],\n",
    "     [0,0,1,0,0],\n",
    "     [0,1,0,0,0],\n",
    "     [1,1,1,1,1]]\n"
   ]
  },
  {
   "cell_type": "code",
   "execution_count": 78,
   "metadata": {},
   "outputs": [],
   "source": [
    "letters = [A,B,C,D,E,F,G,H,I,J,K,L,M,N,O,P,Q,R,S,T,U,V,W,X,Y,Z]"
   ]
  },
  {
   "cell_type": "code",
   "execution_count": 79,
   "metadata": {},
   "outputs": [],
   "source": [
    "os.makedirs(\"alphabet\",exist_ok=True)"
   ]
  },
  {
   "cell_type": "code",
   "execution_count": 80,
   "metadata": {},
   "outputs": [],
   "source": [
    "np.save(\"alphabet/letters\",letters)"
   ]
  },
  {
   "cell_type": "code",
   "execution_count": 81,
   "metadata": {},
   "outputs": [
    {
     "data": {
      "image/png": "[encoded data removed]",
      "text/plain": [
       "<Figure size 3000x300 with 26 Axes>"
      ]
     },
     "metadata": {},
     "output_type": "display_data"
    }
   ],
   "source": [
    "ii = 0\n",
    "plt.figure(figsize=(30,3))\n",
    "for indA in [0,1,2]:\n",
    "    for indB in range(10):\n",
    "        ax=plt.subplot2grid((3,30),(indA,indB))\n",
    "        ax.imshow(letters[ii])\n",
    "        ax.axis(\"off\")\n",
    "        ii+=1\n",
    "        if ii>=len(letters):\n",
    "            break\n"
   ]
  },
  {
   "cell_type": "code",
   "execution_count": 128,
   "metadata": {},
   "outputs": [],
   "source": [
    "binary_map = [np.binary_repr(k+1, width=5) for k in range(len(letters))]"
   ]
  },
  {
   "cell_type": "code",
   "execution_count": 129,
   "metadata": {},
   "outputs": [],
   "source": [
    "np.save(\"alphabet/binary_map\",binary_map)"
   ]
  },
  {
   "cell_type": "code",
   "execution_count": 88,
   "metadata": {},
   "outputs": [],
   "source": [
    "import pennylane as qml\n",
    "from pennylane import numpy as np\n"
   ]
  },
  {
   "cell_type": "code",
   "execution_count": 221,
   "metadata": {},
   "outputs": [],
   "source": [
    "dev = qml.device(\"default.qubit\", wires=5)\n",
    "\n",
    "@qml.qnode(dev)\n",
    "def circuit(params, control):\n",
    "    qml.RX(control,wires=0)\n",
    "    j=0\n",
    "    for k in range(5):\n",
    "        qml.RX(params[k],wires=k)\n",
    "        #j+=1\n",
    "        #qml.RZ(params[j],wires=k)\n",
    "    return np.array([qml.expval(qml.PauliZ(k)) for k in range(5)])"
   ]
  },
  {
   "cell_type": "code",
   "execution_count": 222,
   "metadata": {},
   "outputs": [
    {
     "name": "stdout",
     "output_type": "stream",
     "text": [
      "0: ──RX(0.00)──RX(1.00)─┤  <Z>\n",
      "1: ──RX(1.00)───────────┤  <Z>\n",
      "2: ──RX(1.00)───────────┤  <Z>\n",
      "3: ──RX(1.00)───────────┤  <Z>\n",
      "4: ──RX(1.00)───────────┤  <Z>\n"
     ]
    }
   ],
   "source": [
    "draw = qml.draw(circuit)\n",
    "print(draw(np.ones(10), 0))"
   ]
  },
  {
   "cell_type": "markdown",
   "metadata": {},
   "source": [
    "Let's split the 2Pi interval in 3\n",
    "\n",
    "on 0 ---> output C\n",
    "\n",
    "on 2pi/3 --> outpuc V\n",
    "\n",
    "on 4pi/3 --> output C"
   ]
  },
  {
   "cell_type": "code",
   "execution_count": 224,
   "metadata": {},
   "outputs": [
    {
     "data": {
      "text/plain": [
       "tensor([0.71520043, 0.87497036, 0.98650385, 0.67912212, 0.89127657], requires_grad=True)"
      ]
     },
     "execution_count": 224,
     "metadata": {},
     "output_type": "execute_result"
    }
   ],
   "source": [
    "circuit(np.random.rand(5),4*np.pi)"
   ]
  },
  {
   "cell_type": "code",
   "execution_count": 258,
   "metadata": {},
   "outputs": [],
   "source": [
    "target_1 = np.array([0,0,0,0,1])\n",
    "target_2 = np.array([1,0,1,0,1])\n",
    "def cost(x):\n",
    "    preds_1 = (circuit(x,0.) + 1.)*0.5\n",
    "    return np.mean( (preds_1 - target_1)**2  )\n",
    "\n"
   ]
  },
  {
   "cell_type": "code",
   "execution_count": 265,
   "metadata": {},
   "outputs": [
    {
     "name": "stdout",
     "output_type": "stream",
     "text": [
      "0.4850723371920491\n"
     ]
    }
   ],
   "source": [
    "init_params = np.array(np.ones(5), requires_grad=True)\n",
    "print(cost(init_params))\n",
    "circuit(init_params, 0.)\n",
    "input_1 = 0.\n",
    "input_2 = 2*np.pi/3"
   ]
  },
  {
   "cell_type": "code",
   "execution_count": 263,
   "metadata": {},
   "outputs": [
    {
     "name": "stdout",
     "output_type": "stream",
     "text": [
      "Cost after step   100:  0.0000108\n",
      "Optimized rotation angles: [ 3.26241231  3.26241231  3.26241231  3.26241231 -0.06287248]\n"
     ]
    },
    {
     "data": {
      "text/plain": [
       "tensor([0.00364491, 0.00364491, 0.00364491, 0.00364491, 0.99901209], requires_grad=True)"
      ]
     },
     "execution_count": 263,
     "metadata": {},
     "output_type": "execute_result"
    }
   ],
   "source": [
    "opt = qml.AdamOptimizer(stepsize=1e-1)\n",
    "# set the number of steps\n",
    "steps = 100\n",
    "# set the initial parameter values\n",
    "params = init_params\n",
    "\n",
    "for i in range(steps):\n",
    "    # update the circuit parameters\n",
    "    params = opt.step(cost, params)\n",
    "\n",
    "    if (i + 1) % 100 == 0:\n",
    "        print(\"Cost after step {:5d}: {: .7f}\".format(i + 1, cost(params)))\n",
    "\n",
    "print(\"Optimized rotation angles: {}\".format(params))\n",
    "(circuit(params,input_1) + 1)*.5"
   ]
  },
  {
   "cell_type": "code",
   "execution_count": 266,
   "metadata": {},
   "outputs": [
    {
     "data": {
      "text/plain": [
       "tensor([0.8003668 , 0.00364491, 0.00364491, 0.00364491, 0.99901209], requires_grad=True)"
      ]
     },
     "execution_count": 266,
     "metadata": {},
     "output_type": "execute_result"
    }
   ],
   "source": [
    "(circuit(params,input_2) + 1)*.5"
   ]
  },
  {
   "cell_type": "code",
   "execution_count": 202,
   "metadata": {},
   "outputs": [],
   "source": [
    "target_1 = (np.array([0,0,0,0,1]) +1)*0.5\n",
    "def cost(x):\n",
    "    pred = (circuit(x,0.) +1)*0.5#this guarantes that pred > 0\n",
    "    return -np.mean(np.log10(pred + 1e-9)*target_1)"
   ]
  },
  {
   "cell_type": "code",
   "execution_count": null,
   "metadata": {},
   "outputs": [],
   "source": []
  },
  {
   "cell_type": "code",
   "execution_count": null,
   "metadata": {},
   "outputs": [],
   "source": []
  },
  {
   "cell_type": "code",
   "execution_count": null,
   "metadata": {},
   "outputs": [],
   "source": []
  },
  {
   "cell_type": "code",
   "execution_count": 334,
   "metadata": {},
   "outputs": [],
   "source": [
    "dev = qml.device(\"default.qubit\", wires=5)\n",
    "\n",
    "@qml.qnode(dev)\n",
    "def circuit(params, control):\n",
    "    j=0\n",
    "    for qml_layer in range(4):\n",
    "        qml.RX(control,wires=0)\n",
    "        for k in range(5):\n",
    "            qml.RX(params[j],wires=k)\n",
    "            j+=1\n",
    "            qml.RZ(params[j],wires=k)\n",
    "            j+=1\n",
    "            qml.RX(params[j],wires=k)\n",
    "            j+=1\n",
    "        for k in range(4):\n",
    "            qml.CNOT(wires=[k,k+1])\n",
    "    return np.array([qml.expval(qml.PauliZ(k)) for k in range(5)])"
   ]
  },
  {
   "cell_type": "code",
   "execution_count": 335,
   "metadata": {},
   "outputs": [
    {
     "name": "stdout",
     "output_type": "stream",
     "text": [
      "0: ──RX(0.00)───RX(-1.10)──RZ(-0.96)──RX(0.81)─╭●──RX(0.00)──RX(0.48)───RZ(-1.60)──RX(2.01)─\n",
      "1: ──RX(-0.91)──RZ(-1.57)──RX(-0.04)───────────╰X─╭●─────────RX(-1.38)──RZ(-0.24)──RX(-0.13)\n",
      "2: ──RX(0.57)───RZ(-1.22)──RX(0.24)───────────────╰X────────╭●──────────RX(-0.40)──RZ(0.05)─\n",
      "3: ──RX(-0.85)──RZ(-0.32)──RX(-0.60)────────────────────────╰X─────────╭●──────────RX(-0.79)\n",
      "4: ──RX(0.56)───RZ(1.24)───RX(0.38)────────────────────────────────────╰X──────────RX(1.18)─\n",
      "\n",
      "──╭●──────────RX(0.00)───RX(-1.78)──RZ(-0.01)──RX(-0.30)─╭●──────────RX(0.00)──RX(0.36)──RZ(0.33)─\n",
      "──╰X─────────╭●──────────RX(0.59)───RZ(0.55)───RX(0.94)──╰X─────────╭●─────────RX(1.29)──RZ(0.29)─\n",
      "───RX(1.57)──╰X─────────╭●──────────RX(-0.28)──RZ(-0.58)──RX(-0.33)─╰X────────╭●─────────RX(-1.83)\n",
      "───RZ(-0.54)──RX(-1.27)─╰X─────────╭●──────────RX(-0.52)──RZ(0.15)───RX(1.29)─╰X────────╭●────────\n",
      "───RZ(0.60)───RX(-0.16)────────────╰X──────────RX(0.25)───RZ(-0.88)──RX(1.52)───────────╰X────────\n",
      "\n",
      "───RX(-0.34)─╭●─────────────────────────┤  <Z>\n",
      "───RX(-0.26)─╰X─────────╭●──────────────┤  <Z>\n",
      "───RZ(-0.98)──RX(-1.33)─╰X────────╭●────┤  <Z>\n",
      "───RX(1.24)───RZ(-1.53)──RX(0.63)─╰X─╭●─┤  <Z>\n",
      "───RX(1.39)───RZ(-1.85)──RX(1.81)────╰X─┤  <Z>\n"
     ]
    }
   ],
   "source": [
    "draw = qml.draw(circuit)\n",
    "print(draw(np.random.randn(75), 0))"
   ]
  },
  {
   "cell_type": "code",
   "execution_count": 336,
   "metadata": {},
   "outputs": [],
   "source": [
    "target_1 = np.array([0,0,0,0,1])\n",
    "target_2 = np.array([0,0,1,0,1])\n",
    "target_3 = np.array([1,0,0,0,0])\n",
    "\n",
    "def cost(x):\n",
    "    preds_1 = (circuit(x,input_1) + 1.)*0.5\n",
    "    preds_2 = (circuit(x,input_2) + 1.)*0.5\n",
    "    preds_3 = (circuit(x,input_3) + 1.)*0.5\n",
    "    return np.mean( (preds_1 - target_1)**2  ) + np.mean( (preds_2 - target_2)**2  ) +  np.mean( (preds_3 - target_3)**2  )\n",
    "\n",
    "input_1 = 0.\n",
    "input_2 = 2*np.pi/3\n",
    "input_3 = 4*np.pi/3"
   ]
  },
  {
   "cell_type": "code",
   "execution_count": null,
   "metadata": {},
   "outputs": [
    {
     "name": "stdout",
     "output_type": "stream",
     "text": [
      "Cost after step    10:  0.2999387\n",
      "Cost after step    20:  0.1851070\n",
      "Cost after step    30:  0.1227127\n",
      "Cost after step    40:  0.1001695\n",
      "Cost after step    50:  0.0867908\n",
      "Cost after step    60:  0.0831901\n",
      "Cost after step    70:  0.0817676\n",
      "Cost after step    80:  0.0797345\n",
      "Cost after step    90:  0.0737013\n",
      "Cost after step   100:  0.0549506\n",
      "Cost after step   110:  0.0365724\n",
      "Cost after step   120:  0.0308770\n",
      "Cost after step   130:  0.0171794\n",
      "Cost after step   140:  0.0040170\n",
      "Cost after step   150:  0.0028682\n",
      "Cost after step   160:  0.0022730\n",
      "Cost after step   170:  0.0021611\n",
      "Cost after step   180:  0.0019947\n",
      "Cost after step   190:  0.0019179\n",
      "Cost after step   200:  0.0018857\n",
      "Cost after step   210:  0.0018585\n",
      "Cost after step   220:  0.0018270\n",
      "Cost after step   230:  0.0017928\n",
      "Cost after step   240:  0.0017544\n",
      "Cost after step   250:  0.0017092\n",
      "Cost after step   260:  0.0016549\n",
      "Cost after step   270:  0.0015879\n",
      "Cost after step   280:  0.0015024\n",
      "Cost after step   290:  0.0013894\n",
      "Cost after step   300:  0.0012371\n",
      "Cost after step   310:  0.0010371\n",
      "Cost after step   320:  0.0008073\n",
      "Cost after step   330:  0.0006027\n",
      "Cost after step   340:  0.0004678\n",
      "Cost after step   350:  0.0003991\n",
      "Cost after step   360:  0.0003703\n",
      "Cost after step   370:  0.0003599\n",
      "Cost after step   380:  0.0003558\n",
      "Cost after step   390:  0.0003533\n",
      "Cost after step   400:  0.0003510\n",
      "Cost after step   410:  0.0003486\n",
      "Cost after step   420:  0.0003461\n",
      "Cost after step   430:  0.0003435\n",
      "Cost after step   440:  0.0003409\n",
      "Cost after step   450:  0.0003382\n",
      "Cost after step   460:  0.0003355\n",
      "Cost after step   470:  0.0003329\n",
      "Cost after step   480:  0.0003304\n",
      "Cost after step   490:  0.0003280\n",
      "Cost after step   500:  0.0003259\n",
      "Cost after step   510:  0.0003240\n",
      "Cost after step   520:  0.0003223\n",
      "Cost after step   530:  0.0003208\n",
      "Cost after step   540:  0.0003196\n",
      "Cost after step   550:  0.0003186\n",
      "Cost after step   560:  0.0003178\n",
      "Cost after step   570:  0.0003172\n",
      "Cost after step   580:  0.0003167\n",
      "Cost after step   590:  0.0003164\n",
      "Cost after step   600:  0.0003161\n",
      "Cost after step   610:  0.0003159\n",
      "Cost after step   620:  0.0003157\n",
      "Cost after step   630:  0.0003156\n",
      "Cost after step   640:  0.0003155\n",
      "Cost after step   650:  0.0003155\n",
      "Cost after step   660:  0.0003155\n",
      "Cost after step   670:  0.0003154\n",
      "Cost after step   680:  0.0003154\n",
      "Cost after step   690:  0.0003154\n",
      "Cost after step   700:  0.0003154\n",
      "Cost after step   710:  0.0003154\n",
      "Cost after step   720:  0.0003154\n",
      "Cost after step   730:  0.0003154\n",
      "Cost after step   740:  0.0003154\n",
      "Cost after step   750:  0.0003154\n",
      "Cost after step   760:  0.0003154\n",
      "Cost after step   770:  0.0003154\n",
      "Cost after step   780:  0.0003154\n",
      "Cost after step   790:  0.0003154\n",
      "Cost after step   800:  0.0003154\n",
      "Cost after step   810:  0.0003154\n",
      "Cost after step   820:  0.0003404\n",
      "Cost after step   830:  0.0003911\n",
      "Cost after step   840:  0.0003433\n"
     ]
    }
   ],
   "source": [
    "init_params = np.array(np.random.randn(75), requires_grad=True)\n",
    "\n",
    "opt = qml.AdamOptimizer(stepsize=1e-1)\n",
    "steps = 1000\n",
    "params = init_params\n",
    "for i in range(steps):\n",
    "    params = opt.step(cost, params)\n",
    "    if (i + 1) % 10 == 0:\n",
    "        print(\"Cost after step {:5d}: {: .7f}\".format(i + 1, cost(params)))\n",
    "\n",
    "print(\"Optimized rotation angles: {}\".format(params))\n",
    "(circuit(params,input_1) + 1)*.5"
   ]
  },
  {
   "cell_type": "code",
   "execution_count": 327,
   "metadata": {},
   "outputs": [
    {
     "data": {
      "text/plain": [
       "tensor([0.24384132, 0.00082097, 0.27532716, 0.00091141, 0.75615489], requires_grad=True)"
      ]
     },
     "execution_count": 327,
     "metadata": {},
     "output_type": "execute_result"
    }
   ],
   "source": [
    "(circuit(params,input_1) + 1)*.5"
   ]
  },
  {
   "cell_type": "code",
   "execution_count": 328,
   "metadata": {},
   "outputs": [
    {
     "data": {
      "text/plain": [
       "tensor([1.56750387e-01, 6.95112643e-04, 7.09568521e-01, 6.84993038e-04,\n",
       "        8.43211371e-01], requires_grad=True)"
      ]
     },
     "execution_count": 328,
     "metadata": {},
     "output_type": "execute_result"
    }
   ],
   "source": [
    "(circuit(params,input_2) + 1)*.5"
   ]
  },
  {
   "cell_type": "code",
   "execution_count": 329,
   "metadata": {},
   "outputs": [
    {
     "data": {
      "text/plain": [
       "tensor([0.79159583, 0.00177224, 0.10094811, 0.0018364 , 0.20839666], requires_grad=True)"
      ]
     },
     "execution_count": 329,
     "metadata": {},
     "output_type": "execute_result"
    }
   ],
   "source": [
    "(circuit(params,input_3) + 1)*.5"
   ]
  },
  {
   "cell_type": "code",
   "execution_count": null,
   "metadata": {},
   "outputs": [],
   "source": []
  }
 ],
 "metadata": {
  "kernelspec": {
   "display_name": "Python 3 (ipykernel)",
   "language": "python",
   "name": "python3"
  },
  "language_info": {
   "codemirror_mode": {
    "name": "ipython",
    "version": 3
   },
   "file_extension": ".py",
   "mimetype": "text/x-python",
   "name": "python",
   "nbconvert_exporter": "python",
   "pygments_lexer": "ipython3",
   "version": "3.10.12"
  }
 },
 "nbformat": 4,
 "nbformat_minor": 2
}
