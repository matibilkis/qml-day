{
 "cells": [
  {
   "cell_type": "code",
   "execution_count": 14,
   "metadata": {},
   "outputs": [],
   "source": [
    "import numpy as np\n",
    "import matplotlib.pyplot as plt\n",
    "import os"
   ]
  },
  {
   "cell_type": "code",
   "execution_count": 77,
   "metadata": {},
   "outputs": [],
   "source": [
    "A = [[0,0,0,0,0],\n",
    "     [0,1,1,1,0],\n",
    "     [0,1,0,1,0],\n",
    "     [0,1,1,1,0],\n",
    "     [0,1,0,1,0]]\n",
    "\n",
    "B = [[0,1,1,1,0],\n",
    "     [0,1,0,1,0],\n",
    "     [0,1,1,1,0],\n",
    "     [0,1,0,1,0],\n",
    "     [0,1,1,1,0]]\n",
    "\n",
    "C = [[0,0,0,0,0],\n",
    "     [0,1,1,1,0],\n",
    "     [0,1,0,0,0],\n",
    "     [0,1,1,1,0],\n",
    "     [0,0,0,0,0]]\n",
    "\n",
    "D = [[0,1,1,0,0],\n",
    "     [0,1,0,1,0],\n",
    "     [0,1,0,0,1],\n",
    "     [0,1,0,1,0],\n",
    "     [0,1,1,0,0]]\n",
    "\n",
    "E = [[0,1,1,1,0],\n",
    "     [0,1,0,0,0],\n",
    "     [0,1,1,1,0],\n",
    "     [0,1,0,0,0],\n",
    "     [0,1,1,1,0]]\n",
    "\n",
    "F = [[0,1,1,1,0],\n",
    "     [0,1,0,0,0],\n",
    "     [0,1,1,1,0],\n",
    "     [0,1,0,0,0],\n",
    "     [0,1,0,0,0]]\n",
    "\n",
    "G = [[0,1,1,1,0],\n",
    "     [0,1,0,0,0],\n",
    "     [0,1,1,1,0],\n",
    "     [0,1,0,1,0],\n",
    "     [0,1,1,1,0]]\n",
    "\n",
    "H = [[1,0,0,0,1],\n",
    "     [1,0,0,0,1],\n",
    "     [1,1,1,1,1],\n",
    "     [1,0,0,0,1],\n",
    "     [1,0,0,0,1]]\n",
    "\n",
    "I = [[0,0,1,0,0],\n",
    "     [0,0,1,0,0],\n",
    "     [0,0,1,0,0],\n",
    "     [0,0,1,0,0],\n",
    "     [0,0,1,0,0]]\n",
    "\n",
    "J = [[0,0,0,1,0],\n",
    "     [0,0,0,1,0],\n",
    "     [0,0,0,1,0],\n",
    "     [0,1,0,1,0],\n",
    "     [0,1,1,1,0]]\n",
    "\n",
    "K = [[0,1,0,0,1],\n",
    "     [0,1,0,1,0],\n",
    "     [0,1,1,0,0],\n",
    "     [0,1,0,1,0],\n",
    "     [0,1,0,0,1]]\n",
    "\n",
    "L = [[1,0,0,0,0],\n",
    "     [1,0,0,0,0],\n",
    "     [1,0,0,0,0],\n",
    "     [1,0,0,0,0],\n",
    "     [1,1,1,1,1]]\n",
    "\n",
    "M = [[1,0,0,0,1],\n",
    "     [1,1,0,1,1],\n",
    "     [1,0,1,0,1],\n",
    "     [1,0,0,0,1],\n",
    "     [1,0,0,0,1]]\n",
    "\n",
    "N = [[1,0,0,0,1],\n",
    "     [1,1,0,0,1],\n",
    "     [1,0,1,0,1],\n",
    "     [1,0,0,1,1],\n",
    "     [1,0,0,0,1]]\n",
    "\n",
    "O = [[1,1,1,1,1],\n",
    "     [1,0,0,0,1],\n",
    "     [1,0,0,0,1],\n",
    "     [1,0,0,0,1],\n",
    "     [1,1,1,1,1]]\n",
    "\n",
    "P = [[1,1,1,1,1],\n",
    "     [1,0,0,0,1],\n",
    "     [1,1,1,1,1],\n",
    "     [1,0,0,0,0],\n",
    "     [1,0,0,0,0]]\n",
    "\n",
    "Q = [[1,1,1,1,1],\n",
    "     [1,0,0,0,1],\n",
    "     [1,0,1,0,1],\n",
    "     [1,0,0,1,1],\n",
    "     [1,1,1,1,1]]\n",
    "\n",
    "R = [[1,1,1,1,0],\n",
    "     [1,0,0,1,0],\n",
    "     [1,1,1,1,0],\n",
    "     [1,0,0,1,0],\n",
    "     [1,0,0,0,1]]\n",
    "\n",
    "\n",
    "S = [[0,1,1,1,0],\n",
    "     [0,1,0,0,0],\n",
    "     [0,1,1,1,0],\n",
    "     [0,0,0,1,0],\n",
    "     [0,1,1,1,0]]\n",
    "\n",
    "T = [[0,0,0,0,0],\n",
    "     [1,1,1,1,1],\n",
    "     [0,0,1,0,0],\n",
    "     [0,0,1,0,0],\n",
    "     [0,0,1,0,0]]\n",
    "\n",
    "U = [[1,0,0,0,1],\n",
    "     [1,0,0,0,1],\n",
    "     [1,0,0,0,1],\n",
    "     [1,0,0,0,1],\n",
    "     [1,1,1,1,1]]\n",
    "\n",
    "V = [[0,0,0,0,0],\n",
    "     [1,0,0,0,1],\n",
    "     [0,1,0,1,0],\n",
    "     [0,0,1,0,0],\n",
    "     [0,0,0,0,0]]\n",
    "\n",
    "\n",
    "W = [[1,0,0,0,1],\n",
    "     [1,0,0,0,1],\n",
    "     [1,0,1,0,1],\n",
    "     [1,1,1,1,1],\n",
    "     [1,1,0,1,1]]\n",
    "\n",
    "X = [[1,0,0,0,1],\n",
    "     [0,1,0,1,0],\n",
    "     [0,0,1,0,0],\n",
    "     [0,1,0,1,0],\n",
    "     [1,0,0,0,1]]\n",
    "\n",
    "Y = [[1,0,0,0,1],\n",
    "     [0,1,0,1,0],\n",
    "     [0,0,1,0,0],\n",
    "     [0,0,1,0,0],\n",
    "     [0,0,1,0,0]]\n",
    "\n",
    "Z = [[1,1,1,1,1],\n",
    "     [0,0,0,1,0],\n",
    "     [0,0,1,0,0],\n",
    "     [0,1,0,0,0],\n",
    "     [1,1,1,1,1]]\n"
   ]
  },
  {
   "cell_type": "code",
   "execution_count": 78,
   "metadata": {},
   "outputs": [],
   "source": [
    "letters = [A,B,C,D,E,F,G,H,I,J,K,L,M,N,O,P,Q,R,S,T,U,V,W,X,Y,Z]"
   ]
  },
  {
   "cell_type": "code",
   "execution_count": 79,
   "metadata": {},
   "outputs": [],
   "source": [
    "os.makedirs(\"alphabet\",exist_ok=True)"
   ]
  },
  {
   "cell_type": "code",
   "execution_count": 80,
   "metadata": {},
   "outputs": [],
   "source": [
    "np.save(\"alphabet/letters\",letters)"
   ]
  },
  {
   "cell_type": "code",
   "execution_count": 81,
   "metadata": {},
   "outputs": [
    {
     "data": {
      "image/png": "[encoded data removed]",
      "text/plain": [
       "<Figure size 3000x300 with 26 Axes>"
      ]
     },
     "metadata": {},
     "output_type": "display_data"
    }
   ],
   "source": [
    "ii = 0\n",
    "plt.figure(figsize=(30,3))\n",
    "for indA in [0,1,2]:\n",
    "    for indB in range(10):\n",
    "        ax=plt.subplot2grid((3,30),(indA,indB))\n",
    "        ax.imshow(letters[ii])\n",
    "        ax.axis(\"off\")\n",
    "        ii+=1\n",
    "        if ii>=len(letters):\n",
    "            break\n"
   ]
  },
  {
   "cell_type": "code",
   "execution_count": 128,
   "metadata": {},
   "outputs": [],
   "source": [
    "binary_map = [np.binary_repr(k+1, width=5) for k in range(len(letters))]"
   ]
  },
  {
   "cell_type": "code",
   "execution_count": 129,
   "metadata": {},
   "outputs": [],
   "source": [
    "np.save(\"alphabet/binary_map\",binary_map)"
   ]
  },
  {
   "cell_type": "code",
   "execution_count": 88,
   "metadata": {},
   "outputs": [],
   "source": [
    "import pennylane as qml\n",
    "from pennylane import numpy as np\n"
   ]
  },
  {
   "cell_type": "code",
   "execution_count": 221,
   "metadata": {},
   "outputs": [],
   "source": [
    "dev = qml.device(\"default.qubit\", wires=5)\n",
    "\n",
    "@qml.qnode(dev)\n",
    "def circuit(params, control):\n",
    "    qml.RX(control,wires=0)\n",
    "    j=0\n",
    "    for k in range(5):\n",
    "        qml.RX(params[k],wires=k)\n",
    "        #j+=1\n",
    "        #qml.RZ(params[j],wires=k)\n",
    "    return np.array([qml.expval(qml.PauliZ(k)) for k in range(5)])"
   ]
  },
  {
   "cell_type": "code",
   "execution_count": 222,
   "metadata": {},
   "outputs": [
    {
     "name": "stdout",
     "output_type": "stream",
     "text": [
      "0: ──RX(0.00)──RX(1.00)─┤  <Z>\n",
      "1: ──RX(1.00)───────────┤  <Z>\n",
      "2: ──RX(1.00)───────────┤  <Z>\n",
      "3: ──RX(1.00)───────────┤  <Z>\n",
      "4: ──RX(1.00)───────────┤  <Z>\n"
     ]
    }
   ],
   "source": [
    "draw = qml.draw(circuit)\n",
    "print(draw(np.ones(10), 0))"
   ]
  },
  {
   "cell_type": "markdown",
   "metadata": {},
   "source": [
    "Let's split the 2Pi interval in 3\n",
    "\n",
    "on 0 ---> output C\n",
    "\n",
    "on 2pi/3 --> outpuc V\n",
    "\n",
    "on 4pi/3 --> output C"
   ]
  },
  {
   "cell_type": "code",
   "execution_count": 224,
   "metadata": {},
   "outputs": [
    {
     "data": {
      "text/plain": [
       "tensor([0.71520043, 0.87497036, 0.98650385, 0.67912212, 0.89127657], requires_grad=True)"
      ]
     },
     "execution_count": 224,
     "metadata": {},
     "output_type": "execute_result"
    }
   ],
   "source": [
    "circuit(np.random.rand(5),4*np.pi)"
   ]
  },
  {
   "cell_type": "code",
   "execution_count": 236,
   "metadata": {},
   "outputs": [],
   "source": [
    "target_1 = np.array([0,0,0,0,1])\n",
    "target_2 = np.array([0,0,0,1,1])\n",
    "def cost(x):\n",
    "    preds = (circuit(x,0.) + 1.)*0.5\n",
    "    return np.mean( (preds - target_1)**2  )"
   ]
  },
  {
   "cell_type": "code",
   "execution_count": 237,
   "metadata": {},
   "outputs": [
    {
     "name": "stdout",
     "output_type": "stream",
     "text": [
      "0.5116227172074916\n"
     ]
    }
   ],
   "source": [
    "init_params = np.array(np.random.randn(10), requires_grad=True)\n",
    "print(cost(init_params))"
   ]
  },
  {
   "cell_type": "code",
   "execution_count": 234,
   "metadata": {},
   "outputs": [
    {
     "name": "stdout",
     "output_type": "stream",
     "text": [
      "Cost after step   100:  0.0000039\n",
      "Optimized rotation angles: [ 0.80169541 -1.60709006  0.35938388 -0.34809846  0.00393655 -0.65762472\n",
      "  1.46054135 -0.67410408  0.8307648  -0.21098406]\n"
     ]
    }
   ],
   "source": [
    "\n",
    "\n",
    "opt = qml.AdamOptimizer(stepsize=1e-1)\n",
    "# set the number of steps\n",
    "steps = 100\n",
    "# set the initial parameter values\n",
    "params = init_params\n",
    "\n",
    "for i in range(steps):\n",
    "    # update the circuit parameters\n",
    "    params = opt.step(cost, params)\n",
    "\n",
    "    if (i + 1) % 100 == 0:\n",
    "        print(\"Cost after step {:5d}: {: .7f}\".format(i + 1, cost(params)))\n",
    "\n",
    "print(\"Optimized rotation angles: {}\".format(params))"
   ]
  },
  {
   "cell_type": "code",
   "execution_count": 235,
   "metadata": {},
   "outputs": [
    {
     "data": {
      "text/plain": [
       "tensor([ 0.6954895 , -0.03628576,  0.93611369,  0.94002305,  0.99999225], requires_grad=True)"
      ]
     },
     "execution_count": 235,
     "metadata": {},
     "output_type": "execute_result"
    }
   ],
   "source": [
    "circuit(params,0.)"
   ]
  },
  {
   "cell_type": "code",
   "execution_count": 202,
   "metadata": {},
   "outputs": [],
   "source": [
    "target_1 = (np.array([0,0,0,0,1]) +1)*0.5\n",
    "def cost(x):\n",
    "    pred = (circuit(x,0.) +1)*0.5#this guarantes that pred > 0\n",
    "    return -np.mean(np.log10(pred + 1e-9)*target_1)"
   ]
  },
  {
   "cell_type": "code",
   "execution_count": 203,
   "metadata": {},
   "outputs": [
    {
     "name": "stdout",
     "output_type": "stream",
     "text": [
      "0.1337174683482044\n"
     ]
    }
   ],
   "source": []
  },
  {
   "cell_type": "code",
   "execution_count": 204,
   "metadata": {},
   "outputs": [
    {
     "name": "stdout",
     "output_type": "stream",
     "text": [
      "Cost after step   100:  0.0000019\n",
      "Cost after step   200: -0.0000000\n",
      "Cost after step   300: -0.0000000\n",
      "Cost after step   400: -0.0000000\n",
      "Cost after step   500: -0.0000000\n",
      "Optimized rotation angles: [-4.97226429e-12  3.02878169e-12 -4.79502270e-12  1.50849381e-12\n",
      "  1.00000000e+00]\n"
     ]
    }
   ],
   "source": []
  },
  {
   "cell_type": "code",
   "execution_count": 205,
   "metadata": {},
   "outputs": [
    {
     "data": {
      "text/plain": [
       "tensor([0.25, 0.25, 0.25, 0.25, 0.25], requires_grad=True)"
      ]
     },
     "execution_count": 205,
     "metadata": {},
     "output_type": "execute_result"
    }
   ],
   "source": [
    "(circuit(params, 2*np.pi/3)+1)*0.5"
   ]
  },
  {
   "cell_type": "code",
   "execution_count": null,
   "metadata": {},
   "outputs": [],
   "source": []
  },
  {
   "cell_type": "code",
   "execution_count": null,
   "metadata": {},
   "outputs": [],
   "source": []
  },
  {
   "cell_type": "code",
   "execution_count": null,
   "metadata": {},
   "outputs": [],
   "source": []
  }
 ],
 "metadata": {
  "kernelspec": {
   "display_name": "Python 3 (ipykernel)",
   "language": "python",
   "name": "python3"
  },
  "language_info": {
   "codemirror_mode": {
    "name": "ipython",
    "version": 3
   },
   "file_extension": ".py",
   "mimetype": "text/x-python",
   "name": "python",
   "nbconvert_exporter": "python",
   "pygments_lexer": "ipython3",
   "version": "3.10.12"
  }
 },
 "nbformat": 4,
 "nbformat_minor": 2
}
